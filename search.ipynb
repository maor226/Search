{
  "cells": [
    {
      "cell_type": "markdown",
      "metadata": {
        "id": "view-in-github",
        "colab_type": "text"
      },
      "source": [
        "<a href=\"https://colab.research.google.com/github/maor226/Search/blob/main/search.ipynb\" target=\"_parent\"><img src=\"https://colab.research.google.com/assets/colab-badge.svg\" alt=\"Open In Colab\"/></a>"
      ]
    },
    {
      "cell_type": "code",
      "execution_count": null,
      "metadata": {
        "id": "rYtqTvWphvEX"
      },
      "outputs": [],
      "source": [
        "import time\n",
        "from queue import PriorityQueue\n",
        "from random import shuffle\n",
        "import math\n",
        "\n",
        "import pandas as pd\n",
        "import matplotlib.pyplot as plt\n",
        "from sortedcontainers import SortedList\n",
        "import matplotlib.transforms as mtransforms\n",
        "\n"
      ]
    },
    {
      "cell_type": "code",
      "execution_count": null,
      "metadata": {
        "id": "KpDZsEMfh2xz"
      },
      "outputs": [],
      "source": [
        "\n",
        "blank = \"_\"\n",
        "N = 4\n",
        "up, down, left, right = \"D\", \"U\", \"R\", \"L\"\n"
      ]
    },
    {
      "cell_type": "code",
      "execution_count": null,
      "metadata": {
        "id": "mpgXDtUrh5CV"
      },
      "outputs": [],
      "source": [
        "\n",
        "def parity(permutation):\n",
        "    # assert set(permutation) == set(range(N*N))\n",
        "    # return sum(x<y and px>py for (x, px) in enumerate(permutation) for (y, py) in enumerate(permutation))%2\n",
        "    seen, cycles = set(), 0\n",
        "    for i in permutation:\n",
        "        if i not in seen:\n",
        "            cycles += 1\n",
        "            while i not in seen:\n",
        "                seen.add(i)\n",
        "                i = permutation[i]\n",
        "    return (cycles + len(permutation)) % 2\n",
        "\n",
        "\n",
        "def init_open():\n",
        "    return SortedList()\n",
        "\n",
        "\n",
        "# The function inserts s into open\n",
        "def insert_to_open(open_list, s):  # Should be implemented according to the open list data structure\n",
        "    open_list.add(s)\n",
        "\n",
        "\n",
        "# The function returns the best node in open (according to the search algorithm)\n",
        "def get_best(open_list):\n",
        "    # best_node_ever = open_list[0]\n",
        "    # for node in open_list[1:]:\n",
        "    #     if node[0] <= best_node_ever[0] and node[1] < best_node_ever[1]:\n",
        "    #         best_node_ever = node\n",
        "    # open_list.remove(best_node_ever)\n",
        "    # return best_node_ever\n",
        "    val = open_list[0]\n",
        "    open_list.remove(val)\n",
        "    return val\n",
        "\n",
        "\n",
        "# The function returns neighboring locations of s_location\n",
        "def next_moves(puzzle):\n",
        "    moves = []\n",
        "    b = puzzle.index(blank)\n",
        "    if b % N != 0:\n",
        "        moves.append((left, swap(b, b - 1, puzzle)))\n",
        "    if b % N != N - 1:\n",
        "        moves.append((right, swap(b, b + 1, puzzle)))\n",
        "    if b >= N:\n",
        "        moves.append((up, swap(b, b - N, puzzle)))\n",
        "    if b < N * N - N:\n",
        "        moves.append((down, swap(b, b + N, puzzle)))\n",
        "    return moves\n",
        "\n",
        "\n",
        "def swap(i, j, puzzle):\n",
        "    return tuple([puzzle[k] if k != i and k != j else puzzle[j] if k == i else puzzle[i] for k in range(len(puzzle))])\n",
        "\n",
        "\n",
        "# The function returns whether or not s_location is the goal location\n",
        "def is_goal(puzzle):\n",
        "    for i, t in enumerate(list(puzzle)[:N * N - 1]):\n",
        "        if t == blank or i != t - 1:\n",
        "            return False\n",
        "    return True\n",
        "\n",
        "\n",
        "# The function estimates the cost to get from s_location to goal_location\n",
        "def calculate_heuristic(puzzle):\n",
        "    temp = [abs((tile - 1) % N - i % N) + abs((tile - 1) // N - i // N) if tile != blank else 0 for (i, tile) in\n",
        "            enumerate(puzzle)]\n",
        "    return sum(temp)\n",
        "\n",
        "\n",
        "# The function returns whether n_location should be generated (checks in open_list)\n",
        "# removes a node from open_list if needed\n",
        "def check_for_duplicates_open(puzzle, g, open_list):\n",
        "    if puzzle in open_list:\n",
        "        open_list.remove(puzzle)\n",
        "        return True\n",
        "    return False\n",
        "\n",
        "\n",
        "# The function returns whether n_location should be generated (checks in closed_list)\n",
        "# removes a node from closed_list if needed\n",
        "def check_for_duplicates_close(puzzle, s, closed_list):\n",
        "    if puzzle in closed_list:\n",
        "        if s.g + 1 < closed_list[puzzle].g:\n",
        "            closed_list.pop(puzzle)\n",
        "            return True\n",
        "    return False\n",
        "\n",
        "\n",
        "class State:\n",
        "    def __init__(self, f, h, g, puzzle, s_prev, iteration_number):\n",
        "        self.f = f\n",
        "        self.h = h\n",
        "        self.g = g\n",
        "        self.puzzle = puzzle\n",
        "        self.prev = s_prev\n",
        "\n",
        "    def __lt__(self, other):\n",
        "        return isinstance(other, State) and (self.f < other.f or ( self.f == other.f and self.g < other.g ))\n",
        "\n",
        "    def __str__(self):\n",
        "        return f\"f={self.f}, h={self.h},g= {self.g} ,moves = {self.prev}\"\n",
        "\n",
        "    def __eq__(self, other):\n",
        "        return isinstance(other, State) and other.puzzle == self.puzzle\n",
        "\n",
        "\n",
        "# Locations are tuples of (x, y)\n",
        "def search(start_puzzle, f):\n",
        "    # State = (f, h, g, puzzle, s_prev) # f = g + h (For Priority Queue)\n",
        "    # Start_state = (0, 0, 0, puzzle, [])\n",
        "    iteration_number = 0\n",
        "    start = State(0, 0, 0, start_puzzle, 0, 0)\n",
        "    open_list = init_open()\n",
        "    closed_list = {}\n",
        "    # Mark the source node as\n",
        "    # visited and enqueue it\n",
        "    insert_to_open(open_list, start)\n",
        "    while len(open_list) > 0:\n",
        "        # Dequeue a vertex from\n",
        "        # queue and print it\n",
        "        iteration_number += 1\n",
        "        s = get_best(open_list)\n",
        "        s_puzzle = s.puzzle\n",
        "        if s_puzzle in closed_list:\n",
        "            continue\n",
        "        if is_goal(s_puzzle):\n",
        "            print(\"close \", len(closed_list), \" open \", len(open_list), \" len \", s.prev)\n",
        "            s= s , len(open_list) + len(closed_list)\n",
        "            del open_list\n",
        "            del closed_list\n",
        "            return s\n",
        "\n",
        "        for direction, next_move in next_moves(s.puzzle):\n",
        "            g = s.g + 1\n",
        "            if check_for_duplicates_open(next_move, g, open_list) or check_for_duplicates_close(next_move, s,\n",
        "                                                                                                closed_list):\n",
        "                continue\n",
        "            h = calculate_heuristic(next_move)\n",
        "            n = State(f(g, h, iteration_number), h, g, next_move, s.prev + 1, iteration_number)\n",
        "            insert_to_open(open_list, n)\n",
        "        closed_list[s_puzzle] = s\n",
        "\n",
        "\n",
        "def print_route(s):\n",
        "    for r in s:\n",
        "        print(r)\n",
        "\n",
        "\n",
        "def get_route(s):\n",
        "    route = []\n",
        "    while s:\n",
        "        s_location = (s[3], s[4])\n",
        "        route.append(s_location)\n",
        "        s = s[5]\n",
        "    route.reverse()\n",
        "    return route\n",
        "\n",
        "\n",
        "def print_grid_route(route, grid):\n",
        "    for location in route:\n",
        "        grid[location] = 'x'\n",
        "    print(pd.DataFrame(grid).to_string())\n",
        "\n",
        "\n",
        "class pzl(list):\n",
        "    def __str__(self):\n",
        "        return ((\"[\" + (\"\\t{},\" * (N - 1) + \"\\t{}\\n\") * N)[:-1] + \"\\t]\").format(*self)\n",
        "\n",
        "\n",
        "def new_puzzle():\n",
        "    puzzle = list(range(N * N - 1))\n",
        "    shuffle(puzzle)\n",
        "    while parity(puzzle) != 0:\n",
        "        shuffle(puzzle)\n",
        "    return tuple([s + 1 for s in puzzle] + [blank])\n"
      ]
    },
    {
      "cell_type": "code",
      "execution_count": null,
      "metadata": {
        "id": "Gle285UJiCfs"
      },
      "outputs": [],
      "source": [
        "\n",
        "\n",
        "def astar_f(g, h, *args):\n",
        "    return g + h\n"
      ]
    },
    {
      "cell_type": "code",
      "execution_count": null,
      "metadata": {
        "id": "5jWKqspsiFYK"
      },
      "outputs": [],
      "source": [
        "\n",
        "def maor_f(g , h, *l):\n",
        "    return g +  1.1 *h if g <10 else g+h\n",
        "\n",
        "def maor2_f(g, h, *l):\n",
        "    return (g +  1.1 *h if g <10 else g+h) + 1 / l[0]\n",
        "\n",
        "def maor3_f(g , h, *l):\n",
        "    return g +  0.9 *h if g <10 else g+h\n",
        "\n",
        "def maor(magik):\n",
        "  def maor2_f(g , h, *l):\n",
        "      return g +  1.1 *h if g <magik/2 else g+h\n",
        "  return maor2_f"
      ]
    },
    {
      "cell_type": "code",
      "execution_count": null,
      "metadata": {
        "id": "m3WnzvxviH-s"
      },
      "outputs": [],
      "source": [
        "\n",
        "def y_star_f(g,h,*k):\n",
        "    return g + h + 1 / g\n"
      ]
    },
    {
      "cell_type": "code",
      "execution_count": null,
      "metadata": {
        "id": "o2mtHz-liTz6"
      },
      "outputs": [],
      "source": [
        "def check_diff(f, k, n):\n",
        "  N=n\n",
        "  sum_a_close, sum_m_close, more_close = 0,0,0\n",
        "  for _ in range(k):\n",
        "    puzzle = new_puzzle()\n",
        "    puzzle = (5, 2, 9, 12, 13, 6, 3, 1, blank, 8, 14, 7, 10, 4, 11, 15)\n",
        "    print(pzl(puzzle))\n",
        "\n",
        "    print(\"\\n\\n \",f.__name__,\":\")\n",
        "    t = time.time()\n",
        "    m = search(puzzle, f)\n",
        "    print(time.time()-t)\n",
        "\n",
        "    print(\"\\n\\n a_star:\")\n",
        "    t = time.time()\n",
        "    a = search(puzzle, astar_f)\n",
        "    print(time.time()-t)\n",
        "\n",
        "\n",
        "    if a[0].g != m[0].g:\n",
        "        return \"ERROR \"\n",
        "        break\n",
        "    else:\n",
        "        sum_a_close += len(a[2])\n",
        "        sum_m_close += len(m[2])\n",
        "        if len(a[2]) < len(m[2]):\n",
        "          more_close += 1\n",
        "\n",
        "  return (sum_a_close/k, sum_m_close/k) , (sum_a_close/k- sum_m_close/k) / (sum_a_close/k), more_close\n"
      ]
    },
    {
      "cell_type": "code",
      "execution_count": null,
      "metadata": {
        "id": "_OOKgvxHr7Lb"
      },
      "outputs": [],
      "source": [
        "\n",
        "def y_star2_f(g,h,*k):\n",
        "    return max(g - 1 + h + 1 / g, 0)\n",
        "\n",
        "def y_star3_f(g, h, *args):\n",
        "    return g + h + 1 / args[0]\n",
        "\n",
        "def y_star4_f(g, h, *args):\n",
        "    return max(g + h + 1 / args[0] - 1, 0)\n",
        "\n",
        "def y_star5_f(g, h, *args):\n",
        "    return max(g + h + math.sin(args[0]) - 1, 0)\n",
        "\n",
        "def y_star6_f(g, h, *args):\n",
        "    return max(g + h + math.cos(args[0]) - 1, 0)\n",
        "\n",
        "def y_star7_f(g, h, *args):\n",
        "    return max(g + h + ((- 1) ** args[0]) / 2 + 1 / 2 * 1 / args[0] - 1 , 0)\n",
        "\n",
        "def y_star8_f(g, h, *args):\n",
        "    return max(g + h + (((- 1) ** args[0]) / 2 + 1 / 2 ) * 1 / args[0] - 1 , 0)\n",
        "\n",
        "def y_star9_f(g, h, *args):\n",
        "    return g + h + 1 - 1 / args[0]"
      ]
    },
    {
      "cell_type": "code",
      "execution_count": null,
      "metadata": {
        "id": "hw_GkmYyJEc_"
      },
      "outputs": [],
      "source": [
        "def check_dif(f1,f2, k, n):\n",
        "  N=n\n",
        "  sum_a_close , sum_m_close = 0,0\n",
        "  for _ in range(k):\n",
        "    puzzle = new_puzzle()\n",
        "    print(pzl(puzzle))\n",
        "    \n",
        "\n",
        "    print(\"\\n\\n \",f1.__name__,\":\")\n",
        "    t = time.time()\n",
        "    a = search(puzzle, f1)\n",
        "    print(time.time()-t)\n",
        "\n",
        "\n",
        "    t = time.time()\n",
        "    print(\"\\n\\n \",f2.__name__,\":\")\n",
        "    m = search(puzzle, f2)\n",
        "    print(time.time()-t)\n",
        "\n",
        "\n",
        "\n",
        "    if a[0].g != m[0].g:\n",
        "        return \"ERROR \"\n",
        "        break\n",
        "    else:\n",
        "        sum_a_close += len(a[2])\n",
        "        sum_m_close += len(m[2])\n",
        "  return (sum_a_close/k, sum_m_close/k) , (sum_a_close/k- sum_m_close/k) / (sum_a_close/k)\n"
      ]
    },
    {
      "cell_type": "code",
      "execution_count": null,
      "metadata": {
        "id": "NZkbuN2PlIA2"
      },
      "outputs": [],
      "source": [
        "def record_diff(fs, k,df):\n",
        "  data = [\"puzzle\"]+[ f.__name__ + \"_close_list\" for f in fs]+[ f.__name__ + \"_len\" for f in fs]\n",
        "  data = {d:[] for d in data}\n",
        "  dupp = 0\n",
        "  for i in range(k):\n",
        "    puzzle = new_puzzle()\n",
        "    print(pzl(puzzle))\n",
        "    # puzzle = (5, 2, 9, 12, 13, 6, 3, 1, blank, 8, 14, 7, 10, 4, 11, 15)\n",
        "    if   len(df[df[\"puzzle\"] ==str((puzzle))])>0 or str((puzzle)) in data[\"puzzle\"]:\n",
        "      dupp+=1\n",
        "      print(f\"################################################ dup {dupp}\") \n",
        "      continue\n",
        "    data[\"puzzle\"].append(str((puzzle)))\n",
        "    for f in fs:\n",
        "        t = time.time()\n",
        "        s=search(puzzle, f)\n",
        "        print(time.time()-t)\n",
        "        data[f.__name__ + \"_len\"].append(s[0].prev)\n",
        "        data[f.__name__ + \"_close_list\"].append((s[1]))\n",
        "    print(\"############################################### iteration number: \", i)\n",
        "  data = pd.DataFrame(data)\n",
        "  print(f\"################################################ dup {dupp}\")\n",
        " \n",
        "    \n",
        "  return  df.append(data,True)\n",
        "  # return data"
      ]
    },
    {
      "cell_type": "code",
      "source": [
        "from google.colab import drive\n",
        "drive.mount('/content/drive')"
      ],
      "metadata": {
        "colab": {
          "base_uri": "https://localhost:8080/"
        },
        "id": "xwSQSwRlAVNV",
        "outputId": "05251e4e-cc6a-43ec-aa01-59c1b5b997f0"
      },
      "execution_count": null,
      "outputs": [
        {
          "output_type": "stream",
          "name": "stdout",
          "text": [
            "Drive already mounted at /content/drive; to attempt to forcibly remount, call drive.mount(\"/content/drive\", force_remount=True).\n"
          ]
        }
      ]
    },
    {
      "cell_type": "code",
      "execution_count": null,
      "metadata": {
        "id": "p5P94i6Hy82C"
      },
      "outputs": [],
      "source": [
        "record_df = pd.read_csv('/content/drive/Shareddrives/search/weighted_record_3x3.csv')"
      ]
    },
    {
      "cell_type": "code",
      "source": [
        "def wstar100_f(g,h,*args):\n",
        "  return g+100*h\n",
        "\n",
        "def wstar10_f(g,h,*args):\n",
        "  return g+10*h  \n",
        "\n",
        "def wstar5_f(g,h,*args):\n",
        "  return g+5*h  \n",
        "\n",
        "\n",
        "def wstar3_f(g,h,*args):\n",
        "  return g+3*h   \n",
        "def wstar2_5_f(g,h,*args):\n",
        "  return g+2.5*h  \n",
        "\n",
        "def wstar2_f(g,h,*args):\n",
        "  return g+2*h  \n",
        "\n",
        "def wstar1_5_f(g,h,*args):\n",
        "  return g+1.5*h  \n",
        "\n",
        "def wstar1_1_f(g,h,*args):\n",
        "  return g+1.1*h"
      ],
      "metadata": {
        "id": "nel9ARlmPNbc"
      },
      "execution_count": null,
      "outputs": []
    },
    {
      "cell_type": "code",
      "source": [
        "fun=[wstar100_f,wstar10_f,wstar5_f,wstar3_f,wstar2_5_f,wstar2_f,wstar1_5_f,wstar1_1_f,astar_f,y_star3_f,maor_f,maor2_f]\n",
        "fun_name = {astar_f:\"A*\",wstar100_f:\"100W*\",wstar5_f:\"5W*\",wstar3_f:\"3W*\",wstar2_5_f:\"2.5W*\",wstar1_5_f:\"1.5W*\",wstar10_f:\"10W*\",wstar2_f:\"2W*\",wstar1_1_f:\"1.1W*\",y_star3_f:\"Y*\",maor_f:\"M*\",maor2_f:\"MY*\"}"
      ],
      "metadata": {
        "id": "7WeOBdOrUwrI"
      },
      "execution_count": null,
      "outputs": []
    },
    {
      "cell_type": "code",
      "execution_count": null,
      "metadata": {
        "id": "-Wf6KGl2yO1-"
      },
      "outputs": [],
      "source": [
        "record_df.to_csv('/content/drive/Shareddrives/search/weighted_record_3x3.csv')"
      ]
    },
    {
      "cell_type": "code",
      "source": [
        "prob =[]\n",
        "my_fun = [wstar1_1_f,maor2_f,maor_f,y_star3_f,astar_f]\n",
        "for f in my_fun:\n",
        "  p=len(record_df[record_df[astar_f.__name__+\"_len\"] == record_df[f.__name__+\"_len\"]]) / len(record_df)\n",
        "  prob.append(p)\n",
        "  print(f.__name__ , \" prob to get opt\" , p)\n",
        "\n",
        "df = pd.DataFrame({\"function\":[fun_name[f] for f in my_fun],\"probability to return optimal solution\":prob})\n",
        "\n",
        "import seaborn as sns\n",
        "g = sns.catplot(x=\"function\", y='probability to return optimal solution', kind='bar', data=df)\n",
        "g.ax.set_ylim(0.99,1)\n",
        "\n",
        "import tikzplotlib\n",
        "tikzplotlib.save(f\"/content/drive/Shareddrives/search/prob.tex\")\n"
      ],
      "metadata": {
        "id": "Wi1hjHQGUWMv"
      },
      "execution_count": null,
      "outputs": []
    },
    {
      "cell_type": "code",
      "execution_count": null,
      "metadata": {
        "id": "mi-Tm2jCphrv"
      },
      "outputs": [],
      "source": [
        "def plt_ptint(df,fun):\n",
        "    plt.figure(figsize=(12,8), dpi= 100, edgecolor='k')\n",
        "\n",
        "    label = [fun_name[f] for f in fun]\n",
        "    x = [f.__name__+\"_close_list\" for f in fun]\n",
        "    y = [f.__name__+\"_len\" for f in fun]\n",
        "\n",
        "    # trans_offset = mtransforms.offset_copy(ax.transData, fig=fig,\n",
        "    #                                    x=0.05, y=0.10, units='inches')\n",
        "    dots=[]\n",
        "    for x, y ,l in zip(x, y,label):\n",
        "      c='ro'\n",
        "      if l[-2]==\"W\" or l[-2] ==\"A\":\n",
        "        dots.append((x,y))\n",
        "        c = 'bo'\n",
        "      plt.plot(df[x], df[y], c)\n",
        "      plt.text(df[x], df[y], l +\"- %.4f\"%(df[y],)+(\"\\n\\n \"if l==fun_name[maor2_f] else \"\\n\") )\n",
        "      \n",
        "\n",
        "    plt.plot([df[x] for x,_ in dots] , [df[y] for _,y in dots],\"--\")\n",
        "    # naming the x axis\n",
        "    plt.xlabel('AVG Node Expansion')\n",
        "    # naming the y axis\n",
        "    plt.ylabel('AVG Solution Length')\n",
        "\n",
        "    # # show a legend on the plot\n",
        "    # plt.legend()\n",
        "      \n",
        "    # function to show the plot\n",
        "    plt.show()\n",
        "\n"
      ]
    },
    {
      "cell_type": "code",
      "execution_count": null,
      "metadata": {
        "id": "0dtEzZmp-xJ2"
      },
      "outputs": [],
      "source": [
        "def plt_pgf(df,fun,name):\n",
        "\n",
        "    plt.figure(figsize=(12,8), dpi= 100, edgecolor='k')\n",
        "\n",
        "    label = [fun_name[f] for f in fun]\n",
        "    x = [f.__name__+\"_close_list\" for f in fun]\n",
        "    y = [f.__name__+\"_len\" for f in fun]\n",
        "\n",
        "    # trans_offset = mtransforms.offset_copy(ax.transData, fig=fig,\n",
        "    #                                    x=0.05, y=0.10, units='inches')\n",
        "    dots=[]\n",
        "    for x, y ,l in zip(x, y,label):\n",
        "      c='ro'\n",
        "      if l[-2]==\"W\" or l[-2] ==\"A\":\n",
        "        dots.append((x,y))\n",
        "        c = 'bo'\n",
        "      plt.plot(df[x], df[y], c)\n",
        "      plt.text(df[x], df[y], l +\"- %.4f\"%(df[y],)+(\"\\n\\n \"if l==fun_name[maor2_f] else \"\\n\") )\n",
        "      \n",
        "\n",
        "    plt.plot([df[x] for x,_ in dots] , [df[y] for _,y in dots],\"--\")\n",
        "    # naming the x axis\n",
        "    plt.xlabel('AVG Node Expansion')\n",
        "    # naming the y axis\n",
        "    plt.ylabel('AVG Solution Length')\n",
        "\n",
        "    # # show a legend on the plot\n",
        "    # plt.legend()\n",
        "      \n",
        "    # function to show the plot\n",
        "    import tikzplotlib\n",
        "    tikzplotlib.save(f\"/content/drive/Shareddrives/search/{name}.tex\")\n",
        "\n"
      ]
    },
    {
      "cell_type": "code",
      "execution_count": null,
      "metadata": {
        "id": "3vbfKAz33VDt"
      },
      "outputs": [],
      "source": [
        "plt_pgf(record_df.mean(),fun,\"search_records\")\n",
        "plt_pgf(record_df.mean(),[wstar1_5_f,wstar1_1_f,astar_f,maor_f,y_star3_f,maor2_f],\"search_records1\")"
      ]
    },
    {
      "cell_type": "code",
      "source": [
        "plt_ptint(record_df.mean(),[astar_f,wstar2_f,wstar1_5_f,wstar1_1_f,y_star3_f,maor_f,maor2_f])"
      ],
      "metadata": {
        "id": "B9-7Y75tgkBU"
      },
      "execution_count": null,
      "outputs": []
    }
  ],
  "metadata": {
    "colab": {
      "provenance": [],
      "include_colab_link": true
    },
    "gpuClass": "standard",
    "kernelspec": {
      "display_name": "Python 3",
      "name": "python3"
    },
    "language_info": {
      "name": "python"
    }
  },
  "nbformat": 4,
  "nbformat_minor": 0
}